{
  "cells": [
    {
      "cell_type": "markdown",
      "metadata": {
        "id": "28f0HMCiZ0Rn"
      },
      "source": [
        "## Quick note about Jupyter cells\n",
        "\n",
        "When you are editing a cell in Jupyter notebook, you need to re-run the cell by pressing **`<Shift> + <Enter>`**. This will allow changes you made to be available to other cells.\n",
        "\n",
        "Use **`<Enter>`** to make new lines inside a cell you are editing.\n",
        "\n",
        "#### Code cells\n",
        "\n",
        "Re-running will execute any statements you have written. To edit an existing code cell, click on it.\n",
        "\n",
        "#### Markdown cells\n",
        "\n",
        "Re-running will render the markdown text. To edit an existing markdown cell, double-click on it.\n",
        "\n",
        "<hr>"
      ]
    },
    {
      "cell_type": "markdown",
      "metadata": {
        "id": "tdQvB3fSZ0Ro"
      },
      "source": [
        "## Common Jupyter operations\n",
        "\n",
        "#### Inserting and removing cells\n",
        "\n",
        "- Use the \"plus sign\" icon to insert a cell below the currently selected cell\n",
        "\n",
        "#### Clear the output of all cells\n",
        "\n",
        "- Use \"Kernel\" -> \"Restart\" from the menu to restart the kernel\n",
        "    - click on \"clear all outputs & restart\" to have all the output cleared\n",
        "\n",
        "<hr>"
      ]
    },
    {
      "cell_type": "markdown",
      "metadata": {
        "id": "67YPIObZZ0Rp"
      },
      "source": [
        "## Tips and tricks for .ipynb and VSCode"
      ]
    },
    {
      "cell_type": "markdown",
      "metadata": {
        "id": "F96GTWfeZ0Rp"
      },
      "source": [
        "* Question mark after a command to bring up the documentaries that gives you info on what it does\n",
        "* To comment and uncomment blocks in Jupyter: **` 'CMD' + '/' `**\n",
        "* To indent or unindent blocks of code: **` CMD + '[' OR ']' `**\n",
        "* **` ESC + L `** to number each line of code\n",
        "* To select multiple occurrences of words and edit simultaneously in VSCode, highlight the word, press `CMD + D` and edit"
      ]
    },
    {
      "cell_type": "code",
      "execution_count": null,
      "metadata": {
        "id": "DhZQcSAFZ0Rp"
      },
      "outputs": [],
      "source": [
        "def some_code(x, y):\n",
        "    \"\"\"\n",
        "    Comment the first three solutions out and fix indentation\n",
        "    \"\"\"\n",
        "        solution = x + y\n",
        "        solution = x - y\n",
        "        solution = x * y\n",
        "    solution = (x**2 + y**2)**0.5\n",
        "    return solution"
      ]
    },
    {
      "cell_type": "code",
      "execution_count": null,
      "metadata": {
        "id": "AXYVY0N7Z0Rp"
      },
      "outputs": [],
      "source": [
        "# multiple variable assignments\n",
        "mean, std = 1, 2\n",
        "print(mean, std)"
      ]
    },
    {
      "cell_type": "markdown",
      "metadata": {
        "id": "VpsPLuwdZ0Rq"
      },
      "source": [
        "## NumPy\n",
        "\n",
        "Great for simple numerical calculations and manipulating data structures like arrays and vectors."
      ]
    },
    {
      "cell_type": "markdown",
      "metadata": {
        "collapsed": true,
        "id": "EzRbgY-2Z0Rq"
      },
      "source": [
        "### Some methods on list objects\n",
        "\n",
        "- **`.append(item)`** to add a single item to the list\n",
        "- **`.extend([item1, item2, ...])`** to add multiple items to the list\n",
        "- **`.remove(item)`** to remove a single item from the list\n",
        "- **`.pop()`** to remove and return the item at the end of the list\n",
        "- **`.pop(index)`** to remove and return an item at an index"
      ]
    },
    {
      "cell_type": "code",
      "execution_count": null,
      "metadata": {
        "id": "iKnAa8PnZ0Rq"
      },
      "outputs": [],
      "source": [
        "!pip install numpy"
      ]
    },
    {
      "cell_type": "code",
      "execution_count": null,
      "metadata": {
        "id": "wkUakdUHZ0Rq"
      },
      "outputs": [],
      "source": [
        "# Manipulating lists and arrays are important for playing around with any type of data\n",
        "\n",
        "import numpy as np\n",
        "\n",
        "array1 = np.array([0, 1, 2, 3, 4, 5])\n",
        "type(array1)\n",
        "# numpy arrays are really useful for vectorization and matrix operations"
      ]
    },
    {
      "cell_type": "code",
      "execution_count": null,
      "metadata": {
        "id": "hX85s6iqZ0Rq"
      },
      "outputs": [],
      "source": [
        "# f-strings are very useful for debugging and printing in general\n",
        "print(f'Array1 Before: {array1}')\n",
        "array1 = np.append(array1, 15) # append is a function\n",
        "print(f'Array1 After: {array1}')"
      ]
    },
    {
      "cell_type": "code",
      "execution_count": null,
      "metadata": {
        "id": "eV8BgaMFZ0Rq"
      },
      "outputs": [],
      "source": [
        "list1 = list(range(5))\n",
        "print(f'list1 Before: {list1}')\n",
        "# list1.append(15)\n",
        "list1 = list1.append(15) # .append is a method, it does it to itself\n",
        "print(f'list1 After: {list1}')"
      ]
    },
    {
      "cell_type": "code",
      "execution_count": null,
      "metadata": {
        "id": "ZyPWi9YjZ0Rq"
      },
      "outputs": [],
      "source": [
        "# Queues - First in First Out (FIFO)\n",
        "list1 = list(range(5))\n",
        "print(f'list1 Before: {list1}')\n",
        "list1.pop(0)\n",
        "print(f'list1 After: {list1}')\n",
        "\n",
        "# append and pop(0) are great for turning your data structure into a Queue\n",
        "# Check out dequeues, great data structure for LeetCode questions\n",
        "# https://www.geeksforgeeks.org/deque-in-python/"
      ]
    },
    {
      "cell_type": "code",
      "execution_count": null,
      "metadata": {
        "id": "hf_CysrEZ0Rq"
      },
      "outputs": [],
      "source": [
        "ls = np.linspace(0, 100, 51) # notice the dtype is a float, you can change this in the linspace function parameters\n",
        "#np.arange()\n",
        "print(ls)\n",
        "print(type(ls))\n",
        "#?np.linspace"
      ]
    },
    {
      "cell_type": "code",
      "execution_count": null,
      "metadata": {
        "id": "GWUjadlwZ0Rq"
      },
      "outputs": [],
      "source": [
        "list2 = list(range(6))\n",
        "array2 = np.array([0, 1, 2, 3, 4, 5])\n",
        "\n",
        "print(f'list2 Before: {list2}')\n",
        "list2 = 2*list2\n",
        "print(f'list2 After: {list2}')\n",
        "\n",
        "print() ###################\n",
        "\n",
        "print(f'array2 Before: {array2}')\n",
        "array2 = 2*array2\n",
        "print(f'array2 After: {array2}')\n",
        "# this is why arrays are great for linear algebra and playing with data (matrices)"
      ]
    },
    {
      "cell_type": "code",
      "execution_count": null,
      "metadata": {
        "id": "UsfOibFWZ0Rr"
      },
      "outputs": [],
      "source": [
        "print(np.e, np.pi, np.sin(np.pi))\n",
        "\n",
        "# notice what np.sin(np.pi) returns, can you think why?"
      ]
    },
    {
      "cell_type": "markdown",
      "metadata": {
        "id": "27HNvyXLZ0Rr"
      },
      "source": [
        "## Matplotlib\n",
        "\n",
        "Great for making plots in Python. Typical plots include histograms, lineplots, and scatterplots."
      ]
    },
    {
      "cell_type": "code",
      "execution_count": null,
      "metadata": {
        "id": "ij-x5LpUZ0Rr"
      },
      "outputs": [],
      "source": [
        "!pip install matplotlib"
      ]
    },
    {
      "cell_type": "code",
      "execution_count": null,
      "metadata": {
        "id": "mzjapRA-Z0Rr"
      },
      "outputs": [],
      "source": [
        "from matplotlib import pyplot as plt\n",
        "# OR import matplotlib.pyplot as plt"
      ]
    },
    {
      "cell_type": "code",
      "execution_count": null,
      "metadata": {
        "id": "35tzIcemZ0Rr"
      },
      "outputs": [],
      "source": [
        "x = np.linspace(0, 2 * np.pi, 400)\n",
        "y = np.sin(x) # transform x\n",
        "print(x[:10])"
      ]
    },
    {
      "cell_type": "code",
      "execution_count": null,
      "metadata": {
        "id": "qL0QiRpyZ0Rr"
      },
      "outputs": [],
      "source": [
        "plt.figure()\n",
        "plt.plot(x, y)\n",
        "\n",
        "plt.xlabel(\"x\")\n",
        "plt.ylabel(\"y\")\n",
        "plt.title(\"y vs x\")"
      ]
    },
    {
      "cell_type": "code",
      "execution_count": null,
      "metadata": {
        "id": "j_wnFIThZ0Rr"
      },
      "outputs": [],
      "source": [
        "fig, axs = plt.subplots(2)\n",
        "fig.suptitle('Vertically stacked subplots')\n",
        "axs[0].plot(x, y)\n",
        "axs[1].plot(x, -y)"
      ]
    },
    {
      "cell_type": "code",
      "execution_count": null,
      "metadata": {
        "id": "4kRK5WPtZ0Rr"
      },
      "outputs": [],
      "source": [
        "# Plot, labels, and legends\n",
        "# might have to use plt.show() if plots not showing"
      ]
    },
    {
      "cell_type": "code",
      "execution_count": null,
      "metadata": {
        "id": "6vp4aMHvZ0Rr"
      },
      "outputs": [],
      "source": [
        "fig, (ax1, ax2) = plt.subplots(2, figsize = (5,5))\n",
        "fig.suptitle('Vertically stacked subplots')\n",
        "ax1.plot(x, y)\n",
        "ax2.plot(x, -y)"
      ]
    },
    {
      "cell_type": "code",
      "execution_count": null,
      "metadata": {
        "id": "YqMxK924Z0Rr"
      },
      "outputs": [],
      "source": [
        "fig, (ax1, ax2) = plt.subplots(1, 2, figsize=(10,5))\n",
        "fig.suptitle('Horizontally stacked subplots')\n",
        "ax1.plot(x, y)\n",
        "ax2.plot(x, -y)"
      ]
    },
    {
      "cell_type": "code",
      "execution_count": null,
      "metadata": {
        "id": "W2Rx26RSZ0Rr"
      },
      "outputs": [],
      "source": [
        "Z = np.random.normal(0, 1, 100)\n",
        "#plt.hist(Z, bins = 100)\n",
        "plt.scatter(Z, Z**2)"
      ]
    },
    {
      "cell_type": "markdown",
      "metadata": {
        "id": "20rLL6_4Z0Rs"
      },
      "source": [
        "## Pandas\n",
        "\n",
        "Great for reading data, manipulating data, preparing data."
      ]
    },
    {
      "cell_type": "code",
      "execution_count": null,
      "metadata": {
        "id": "PN7txelaZ0Rs"
      },
      "outputs": [],
      "source": [
        "!pip install pandas"
      ]
    },
    {
      "cell_type": "code",
      "execution_count": null,
      "metadata": {
        "id": "SsVHCgIyZ0Rs"
      },
      "outputs": [],
      "source": [
        "import pandas as pd\n",
        "\n",
        "# create some random data to example a stock price over time\n",
        "\n",
        "data = pd.DataFrame({\n",
        "    'time': np.linspace(0, 100, 100),\n",
        "    'price': np.random.normal(0, 1, 100)\n",
        "})\n",
        "data['price'] = data['price'].cumsum()\n",
        "\n",
        "data"
      ]
    },
    {
      "cell_type": "code",
      "execution_count": null,
      "metadata": {
        "id": "ZbNAsXjiZ0Rs"
      },
      "outputs": [],
      "source": [
        "data.head()\n",
        "# data.tail()"
      ]
    },
    {
      "cell_type": "code",
      "execution_count": null,
      "metadata": {
        "id": "tSePPaauZ0Rs"
      },
      "outputs": [],
      "source": [
        "data.plot('time', 'price')"
      ]
    },
    {
      "cell_type": "markdown",
      "metadata": {
        "id": "ucdX38i6Z0Rs"
      },
      "source": [
        "## Real Stock Returns Example\n",
        "\n",
        "We can use yfinance to get stock data and calculate the daily returns of a stock."
      ]
    },
    {
      "cell_type": "code",
      "execution_count": null,
      "metadata": {
        "id": "LILklS98Z0Rs"
      },
      "outputs": [],
      "source": [
        "!pip install yfinance"
      ]
    },
    {
      "cell_type": "code",
      "execution_count": null,
      "metadata": {
        "id": "iTBLkGS_Z0Rs"
      },
      "outputs": [],
      "source": [
        "import yfinance as yf\n",
        "# download data for SPY, a popular ETF that tracks the S&P 500\n",
        "spy_data = yf.download('SPY', start='2014-01-01', end='2024-01-01')\n",
        "spy_data"
      ]
    },
    {
      "cell_type": "code",
      "execution_count": null,
      "metadata": {
        "id": "49Ddt7mOZ0Rs"
      },
      "outputs": [],
      "source": [
        "spy_data['daily_return'] = spy_data['Close'].pct_change()\n",
        "\n",
        "# make a histogram of the daily returns with a big figure size\n",
        "plt.figure(figsize=(20, 10))\n",
        "plt.hist(spy_data['daily_return'], bins=100)\n",
        "plt.show()"
      ]
    },
    {
      "cell_type": "markdown",
      "metadata": {
        "id": "fxpj6BZJZ0Rs"
      },
      "source": [
        "## Resources\n",
        "\n",
        "1. https://www.learndatasci.com/tutorials/applied-introduction-to-numpy-python-tutorial/\n",
        "2. https://app.datacamp.com/learn\n",
        "3. https://queirozf.com/entries/pandas-dataframe-plot-examples-with-matplotlib-pyplot\n",
        "\n",
        "## Other libraries that are good to know\n",
        "\n",
        "1. `seaborn` for data visualization\n",
        "2. `sklearn / sci-kit learn` for machine learning\n",
        "3. `Tensorflow / PyTorch` for deep learning\n",
        "4. Any financial data library to extract data (`yfinance, openBB, etc.`)"
      ]
    },
    {
      "cell_type": "markdown",
      "metadata": {
        "id": "mdcYJa57Z0Rs"
      },
      "source": [
        "## Practice!"
      ]
    },
    {
      "cell_type": "markdown",
      "metadata": {
        "id": "5YyfOGjaZ0Rt"
      },
      "source": [
        "1. Create an array of the first 10 prime numbers. Then write a python program to return the difference between its neighboring value ($n_{i+1} - n_{i}$).\n",
        "\n",
        "`Ex. [5, 9, 7] should return [4, -2]`\n",
        "\n",
        "2. Given a range of numbers (inclusive), return how many odd numbers there are.\n",
        "\n",
        "3. Create a 2D $n$ by $n$ array where only the border of the matrix is one, and the rest are 0s.\n",
        "\n",
        "4. Given a list of non repeating numbers, find the missing number.**\n",
        "\n",
        "**Let's try to use the libraries we just learned!**"
      ]
    },
    {
      "cell_type": "code",
      "execution_count": null,
      "metadata": {
        "id": "FBm-50e3Z0Rt"
      },
      "outputs": [],
      "source": [
        "def primeDifference():\n",
        "    \"\"\" q1\n",
        "    [5, 9, 7] should return [4, -2]\n",
        "    \"\"\"\n",
        "    #create array\n",
        "\n",
        "    # hint: you should try to code it first, but there is a function that specifically does this\n",
        "    # Stackoverflow, Google, ChatGPT are your best friends\n",
        "\n",
        "    return\n",
        "\n",
        "primeDifference()"
      ]
    },
    {
      "cell_type": "code",
      "execution_count": null,
      "metadata": {
        "id": "LelBjRydZ0Rt"
      },
      "outputs": [],
      "source": [
        "def oddInRange(a, b):\n",
        "    \"\"\" q2\n",
        "    Given [a, b], return number of odds in that range ([a, b] inclusive)\n",
        "    Ex. [1, 4] should return 2. [0,4] returns 2. [10, 2003] returns 997.\n",
        "    \"\"\"\n",
        "\n",
        "    return"
      ]
    },
    {
      "cell_type": "code",
      "execution_count": null,
      "metadata": {
        "id": "lB0uWrA3Z0Rt"
      },
      "outputs": [],
      "source": [
        "def arrayBorder(n):\n",
        "    \"\"\" q3\n",
        "    Create a 2D n by n array where only the border of the matrix is one, and the rest are 0s.\n",
        "\n",
        "    Hint: Many ways to do it, but for the sake of learning, use np.ones() and figure out what it does!\n",
        "    \"\"\"\n",
        "\n",
        "    return\n",
        "\n",
        "?np.ones"
      ]
    },
    {
      "cell_type": "code",
      "execution_count": null,
      "metadata": {
        "id": "PxVwsVXkZ0Rt"
      },
      "outputs": [],
      "source": [
        "def missingNumber(miss):\n",
        "    \"\"\" q4\n",
        "    Given a list of non repeating numbers, find the missing number.\n",
        "    [1,2,4] returns 3\n",
        "    [3,2,1,7,5,6] returns 4\n",
        "    Hint: there is a really elegant way to do this - try to come up with it!\n",
        "    \"\"\"\n",
        "\n",
        "    return"
      ]
    },
    {
      "cell_type": "markdown",
      "metadata": {
        "id": "JrGtxhXVZ0Ru"
      },
      "source": [
        "5. Two Sum: Classic LeetCode\n",
        "\n",
        "https://leetcode.com/problems/two-sum/\n",
        "\n",
        "Top data structures to know:\n",
        "* Queues\n",
        "* Stacks\n",
        "* Hashmap (Dictionary)\n",
        "* Dequeues"
      ]
    }
  ],
  "metadata": {
    "kernelspec": {
      "display_name": "Python 3",
      "language": "python",
      "name": "python3"
    },
    "language_info": {
      "codemirror_mode": {
        "name": "ipython",
        "version": 3
      },
      "file_extension": ".py",
      "mimetype": "text/x-python",
      "name": "python",
      "nbconvert_exporter": "python",
      "pygments_lexer": "ipython3",
      "version": "3.9.13"
    },
    "colab": {
      "provenance": []
    }
  },
  "nbformat": 4,
  "nbformat_minor": 0
}